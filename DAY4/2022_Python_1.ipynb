{
  "cells": [
    {
      "cell_type": "markdown",
      "metadata": {
        "id": "-xPbOREASCn8"
      },
      "source": [
        "# 🐍 **Instructor Intro to Python** 🐍\n",
        "\n",
        "First, go to `file > save a copy in drive`. This will make a new copy of this notebook. Next, open your new notebook and go to `edit > clear all outputs`. This will make sure that when you run your code, the output is not already shown. "
      ]
    },
    {
      "cell_type": "markdown",
      "metadata": {
        "id": "twqFmkNDSWls"
      },
      "source": [
        "## 🎯 **Learning Goals**\n",
        "\n",
        "*   Demonstrate the ability to write variables and functions using Python \n",
        "*   Understand the purpose of mathematical operators and their applications in automating calculations\n",
        "*  Differentiate between basic data types and understand when and why they are used\n",
        "*   Understand how to use containers in Python programs\n",
        "\n"
      ]
    },
    {
      "cell_type": "markdown",
      "metadata": {
        "id": "5Iy4dvuyLydI"
      },
      "source": [
        "## 📗 **Technical Vocabulary** \n",
        "\n",
        "*   Variables\n",
        "*   Functions\n",
        "*   Mathematical Operators \n",
        "*   Integers\n",
        "*   Floats\n",
        "*   Numbers \n",
        "*   String\n",
        "*   Boolean\n",
        "*   Type Conversion\n",
        "*   Containers \n",
        "*   Tuple \n",
        "*   List \n",
        "*   Dictionary \n",
        "\n"
      ]
    },
    {
      "cell_type": "markdown",
      "metadata": {
        "id": "sca-my5ENOdA"
      },
      "source": [
        "## 🌎 **What is Python?**\n",
        "\n",
        "Python is a programming language first released in 1991 Guido van Rossum and is one of the most popular languages used in computing today. Python is most often used in web development to create applicationss - some of the more popular websites and applications that run on Python (at least partially) include: Google, Youtube, Facebook, Instagram, Reddit and Dropbox! \n",
        "\n",
        "Python is also extremely popular in the data science community because it's a general purpose language which makes it easy to collaborate with all types of computer scientists through its simple syntax. People choose to use Python so that they can communicate easily with other people! At KWK, we're going to be using *Python 3.x*.\n"
      ]
    },
    {
      "cell_type": "markdown",
      "metadata": {
        "id": "ccVCbxhtSnug"
      },
      "source": [
        "## 📓 **What is Google Colab?**\n",
        "\n",
        "Colaboratory, or “Colab” for short, is a product from Google Research. Colab allows anybody to write and execute Python code through the browser, and is especially well suited to machine learning, data analysis and education. More technically, Colab is a hosted Jupyter notebook service that requires no setup to use [(more info here)](https://research.google.com/colaboratory/faq.html#:~:text=Colaboratory%2C%20or%20%E2%80%9CColab%E2%80%9D%20for,learning%2C%20data%20analysis%20and%20education.). Think of Colab as a notebook where you can show your work and write comments in order to explain your process and results. \n",
        "\n",
        "At KWK, our python notebooks will be mainly made up of text and code cells. The text cells are created using Markdown (which is a language in itself). Code cells are where we will write and execute our code.  \n",
        "\n",
        "* **Markdown**: text or markdown cells are used to document work in Python and can be styled like HTML [(Markdown cheat sheet)](https://www.markdownguide.org/cheat-sheet/).\n",
        "\n",
        "* **Code**: code cells are where we actually write Python programs and then use the run button to execute them. To run a block of code, click the play button on the left hand side of the cell. This will execute everything written in that cell. It will not effect any cells below, but it will save the code during that notebook session. \n",
        "\n",
        "```\n",
        "# This is formatted as code\n",
        "```\n",
        "\n",
        "* **Comments**: A hash sign ` # ` that is not inside a string literal begins a comment. All characters after the # and up to the end of the physical line are part of the comment and the Python interpreter ignores them.\n",
        "\n",
        "```\n",
        "# This is how you write a comment\n",
        "```\n",
        "\n",
        "✨✨ *Remember, if you're importing a library or running a code block which later blocks will be dependent on, you need to make sure to run those cells first! Otherwise it won't work and you'll get an error message.* ✨✨\n",
        "\n"
      ]
    },
    {
      "cell_type": "markdown",
      "metadata": {
        "id": "8M6_RMeJS_nx"
      },
      "source": [
        "## 🧪 **Run Some Practice Code!**"
      ]
    },
    {
      "cell_type": "code",
      "execution_count": null,
      "metadata": {
        "colab": {
          "base_uri": "https://localhost:8080/"
        },
        "id": "lePB2g9_S-Kd",
        "outputId": "1c8cd3a3-1353-4af3-c80c-e5623b0b7582"
      },
      "outputs": [
        {
          "name": "stdout",
          "output_type": "stream",
          "text": [
            "hello kode with klossy world\n"
          ]
        }
      ],
      "source": [
        "### press the play button to run this cell\n",
        "print ('hello kode with klossy world')"
      ]
    },
    {
      "cell_type": "markdown",
      "metadata": {
        "id": "mWgjUU00O6Bv"
      },
      "source": [
        "## 🔢 **Data Types**\n",
        "\n",
        "Throughout this training, you will learn about several different Python data types. A data type is a specific kind of information or data. Based on the type of data we write in our code, the program will interpret it differently. In this course, we'll cover three datatypes: strings, numbers and booleans."
      ]
    },
    {
      "cell_type": "markdown",
      "metadata": {
        "id": "yNd74-VGPjTT"
      },
      "source": [
        "### **Strings**\n",
        "\n",
        "Strings represent values that are characters, words or any other type of text. You can think of a string as a series of characters (alpha, numeric, spaces, and special characters) between two quotation marks. An example is person's first name or the title of your favorite book:\n",
        "\n",
        "```\n",
        "# String Example\n",
        "\n",
        "\"Karlie Kloss\"\n",
        "\n",
        "'Data Feminism'\n",
        "```"
      ]
    },
    {
      "cell_type": "markdown",
      "metadata": {
        "id": "E9tH9IlxQcjO"
      },
      "source": [
        "In Python, strings can be either double-quoted (“like this”) or single-quoted (‘like this’)."
      ]
    },
    {
      "cell_type": "markdown",
      "metadata": {
        "id": "JeecZkBdQ3h7"
      },
      "source": [
        "### **`print ( )`**\n",
        "\n",
        "If we want to run the cell and have it return what we wrote, we can use the print function. Press the play button to run the cell below. "
      ]
    },
    {
      "cell_type": "code",
      "execution_count": null,
      "metadata": {
        "colab": {
          "base_uri": "https://localhost:8080/"
        },
        "id": "qByVu_drRRqh",
        "outputId": "1a38f247-35c0-45eb-9104-539d560865ba"
      },
      "outputs": [
        {
          "name": "stdout",
          "output_type": "stream",
          "text": [
            "Hi, Kode With Klossy\n"
          ]
        }
      ],
      "source": [
        "# Print out the following text \n",
        "print('Hi, Kode With Klossy')"
      ]
    },
    {
      "cell_type": "markdown",
      "metadata": {
        "id": "PRo4Sma7RfpN"
      },
      "source": [
        "You should see “Hi, Kode With Klossy” appear below the cell block. "
      ]
    },
    {
      "cell_type": "markdown",
      "metadata": {
        "id": "PDAwqG0GcX25"
      },
      "source": [
        "\n",
        "\n",
        "---\n",
        "\n",
        "\n",
        "#### ✏️ ***Try It: Strings***\n",
        "\n",
        "Create a new code cell. Inside the cell, type `print(\"your first name\")`. Instead of the words \"your first name\", type your actual name! You do need to include the quotes.\n",
        "\n",
        "Type `print(\"the last thing you ate\")`.\n",
        "\n",
        "Type `print(\"your full name\")`.\n",
        "\n",
        "Type anything you want inside of the `( )` after `print`. Try to use some characters from your keyboard that are not numbers or letters. Make sure your text is enclosed in quotes.\n",
        "\n",
        "✨✨ *Don't forget to run your code by clicking the play button.* ✨✨ \n",
        "\n",
        "---\n",
        "\n"
      ]
    },
    {
      "cell_type": "markdown",
      "metadata": {
        "id": "3E8OD97NgFRY"
      },
      "source": [
        "### 💡 **Variables**\n",
        "Variables allow us to store information that can later be used in an expression. To define a variable in Python, we must first state the name we want our variable to be. To assign a value to that name, we must use the \"Assignment Operator\" which is denoted by the equal (`=`) symbol. Finally, on the right-hand side of the equal sign (`=`), we give it the value we want our variable to hold.\n",
        "\n",
        "✨✨ *You can use any word to name your variable however there are specific keywords that are reserved in Python that cannot be used as variable names. Check out this [link](https://www.programiz.com/python-programming/keyword-list) for a full list of Python's reserved words.* ✨✨ \n",
        "\n"
      ]
    },
    {
      "cell_type": "code",
      "execution_count": null,
      "metadata": {
        "colab": {
          "base_uri": "https://localhost:8080/"
        },
        "id": "Tx2jr1HchHLf",
        "outputId": "0c899e58-fc7d-4c14-f2b8-8598f29be265"
      },
      "outputs": [
        {
          "name": "stdout",
          "output_type": "stream",
          "text": [
            "fluffy\n"
          ]
        }
      ],
      "source": [
        "# Variable example\n",
        "dog = \"fluffy\"\n",
        "\n",
        "print(dog)"
      ]
    },
    {
      "cell_type": "code",
      "execution_count": null,
      "metadata": {
        "colab": {
          "base_uri": "https://localhost:8080/"
        },
        "id": "U3neg4vuhsGM",
        "outputId": "7ab4c500-1b77-4d72-b607-fffc67a31e8a"
      },
      "outputs": [
        {
          "name": "stdout",
          "output_type": "stream",
          "text": [
            "pizza\n"
          ]
        }
      ],
      "source": [
        "# Variable example 2\n",
        "favorite_food = \"pizza\"\n",
        "\n",
        "print(favorite_food)"
      ]
    },
    {
      "cell_type": "markdown",
      "metadata": {
        "id": "--80xXvFh7d1"
      },
      "source": [
        "\n",
        "\n",
        "---\n",
        "### **✏️** **Try It: Strings and Variables**\n",
        "Complete the following in a new code cell. After you type the code, make sure to run the cell!\n",
        "\n",
        "Declare a variable for each prompt below. Then, print it out.\n",
        "\n",
        "*   A variable called `favorite food` that holds your favorite food\n",
        "*   A variable called `pet` that holds the name of a pet\n",
        "*   A variable called `school` that holds the name of your high school\n",
        "*   A variable called `goal` that holds one of your 2021 goals. Remember, you can include spaces in a string!\n",
        "*   A variable called `sport` that holds the name of your favorite sport\n",
        "\n",
        "\n",
        "---\n"
      ]
    },
    {
      "cell_type": "markdown",
      "metadata": {
        "id": "ApqvbpRWWATJ"
      },
      "source": [
        "### **Numbers**\n",
        "Python has several types to represent numbers, including integers and floats.\n",
        "* Integers are used to represent whole numbers (ex. 50)\n",
        "* Floats are used to represent fractional or irrational numbers (ex. 3.14)"
      ]
    },
    {
      "cell_type": "code",
      "execution_count": null,
      "metadata": {
        "colab": {
          "base_uri": "https://localhost:8080/"
        },
        "id": "kGXdlICeWCsF",
        "outputId": "06964a26-7411-4226-90e9-99ead97da3b0"
      },
      "outputs": [
        {
          "name": "stdout",
          "output_type": "stream",
          "text": [
            "10\n"
          ]
        }
      ],
      "source": [
        "# Integer Example \n",
        "print(10)"
      ]
    },
    {
      "cell_type": "code",
      "execution_count": null,
      "metadata": {
        "colab": {
          "base_uri": "https://localhost:8080/"
        },
        "id": "FwNAsYVieOVV",
        "outputId": "80a0c794-a8c3-45c8-f9c4-6b6e05fa0e02"
      },
      "outputs": [
        {
          "name": "stdout",
          "output_type": "stream",
          "text": [
            "5.5\n"
          ]
        }
      ],
      "source": [
        "# Float Example \n",
        "print(5.5)"
      ]
    },
    {
      "cell_type": "code",
      "execution_count": null,
      "metadata": {
        "colab": {
          "base_uri": "https://localhost:8080/"
        },
        "id": "rNycuQl2e4Hl",
        "outputId": "e74a8b63-b7f5-4b57-edb1-cba8b9ce0bdc"
      },
      "outputs": [
        {
          "name": "stdout",
          "output_type": "stream",
          "text": [
            "15\n"
          ]
        }
      ],
      "source": [
        "# This is a string (not a number) because it has quotation marks\n",
        "print(\"15\")"
      ]
    },
    {
      "cell_type": "markdown",
      "metadata": {
        "id": "EcmLFsawWO7C"
      },
      "source": [
        "If we wanted to convert a float to an integer we can pass our value to the `int` function. Similarily, if we want to convert an integer into a float, we can pass it into the `float` function. "
      ]
    },
    {
      "cell_type": "code",
      "execution_count": null,
      "metadata": {
        "colab": {
          "base_uri": "https://localhost:8080/"
        },
        "id": "O252bHCfWQar",
        "outputId": "fd647206-8c68-47b9-ff2b-aa309a341250"
      },
      "outputs": [
        {
          "data": {
            "text/plain": [
              "1"
            ]
          },
          "execution_count": 8,
          "metadata": {
            "tags": []
          },
          "output_type": "execute_result"
        }
      ],
      "source": [
        "# convert float to integer \n",
        "int(1.3333)"
      ]
    },
    {
      "cell_type": "code",
      "execution_count": null,
      "metadata": {
        "colab": {
          "base_uri": "https://localhost:8080/"
        },
        "id": "DNMSaltUS1rw",
        "outputId": "71d405c9-a6fe-430f-886f-24636b400c16"
      },
      "outputs": [
        {
          "data": {
            "text/plain": [
              "4.0"
            ]
          },
          "execution_count": 9,
          "metadata": {
            "tags": []
          },
          "output_type": "execute_result"
        }
      ],
      "source": [
        "# convert integer to float \n",
        "float(4)"
      ]
    },
    {
      "cell_type": "markdown",
      "metadata": {
        "id": "wNWHftG1RxNQ"
      },
      "source": [
        "If we want to convert a number into a string, we can pass our value into the `str` function. "
      ]
    },
    {
      "cell_type": "code",
      "execution_count": null,
      "metadata": {
        "colab": {
          "base_uri": "https://localhost:8080/",
          "height": 35
        },
        "id": "qcWPpgMWWTYR",
        "outputId": "b0b32f09-b915-4e74-af74-c82fd169433c"
      },
      "outputs": [
        {
          "data": {
            "application/vnd.google.colaboratory.intrinsic+json": {
              "type": "string"
            },
            "text/plain": [
              "'1.33'"
            ]
          },
          "execution_count": 10,
          "metadata": {
            "tags": []
          },
          "output_type": "execute_result"
        }
      ],
      "source": [
        "# convert float to string\n",
        "str(1.33)"
      ]
    },
    {
      "cell_type": "markdown",
      "metadata": {
        "id": "MoOC2px4TTwx"
      },
      "source": [
        "### ➗ **Python as a Calculator**\n",
        "\n",
        "Python is perfectly suited to do basic calculations. Apart from addition, subtraction, multiplication and division, there is also support for more advanced operations.\n",
        "\n",
        "![Screen Shot 2020-12-28 at 6.33.46 AM.png](data:image/png;base64,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)"
      ]
    },
    {
      "cell_type": "markdown",
      "metadata": {
        "id": "wbhSW60X3Knv"
      },
      "source": [
        "Run the cell below to see the answers to the following calculations: "
      ]
    },
    {
      "cell_type": "code",
      "execution_count": null,
      "metadata": {
        "colab": {
          "base_uri": "https://localhost:8080/"
        },
        "id": "vQGzEp4rUp4g",
        "outputId": "ee9a9226-e39e-418e-bf1d-f2ec3c1695f8"
      },
      "outputs": [
        {
          "name": "stdout",
          "output_type": "stream",
          "text": [
            "10\n",
            "0\n",
            "15\n",
            "5.0\n",
            "16\n"
          ]
        }
      ],
      "source": [
        "# Addition, subtraction\n",
        "print(5 + 5)\n",
        "print(5 - 5)\n",
        "\n",
        "# Multiplication, division, and exponentiation\n",
        "print(3 * 5)\n",
        "print(10 / 2)\n",
        "print(4 ** 2)"
      ]
    },
    {
      "cell_type": "markdown",
      "metadata": {
        "id": "KHyFpOpTUEfL"
      },
      "source": [
        "Python evaluates every mathematical expression by following the BEDMAS ruleset. \n",
        "\n",
        "*BEDMAS = multiplication, division, exponents, brackets, subtraction, addition*\n",
        "\n",
        "Now let's try to combine operators:"
      ]
    },
    {
      "cell_type": "code",
      "execution_count": null,
      "metadata": {
        "colab": {
          "base_uri": "https://localhost:8080/"
        },
        "id": "7CxdlyjyUH3K",
        "outputId": "55d72008-9e4c-42bc-bb95-9adda06c0977"
      },
      "outputs": [
        {
          "name": "stdout",
          "output_type": "stream",
          "text": [
            "77.0\n"
          ]
        }
      ],
      "source": [
        "lucky_number = 2 * (45 - 2**2) - (12 / 2) + 1\n",
        "\n",
        "#Do not remove brackets from the print function\n",
        "print(lucky_number)"
      ]
    },
    {
      "cell_type": "markdown",
      "metadata": {
        "id": "4R4avs4cSJuG"
      },
      "source": [
        "\n",
        "\n",
        "---\n",
        "### ✏️ **Try It: Numbers & Calculations**\n",
        "Complete the following in a new code cell. After you type the code, make sure to run the cell!\n",
        "\n",
        "*   An equation that equals 100\n",
        "*   An equation with two or more operators \n",
        "*   An equation using a variable\n",
        "\n",
        "---\n"
      ]
    },
    {
      "cell_type": "markdown",
      "metadata": {
        "id": "o_L7Vy2-WZjA"
      },
      "source": [
        "### **Booleans**\n",
        "Booleans represent a dichotomy as either a `True` or `False` value. We can use booleans to represent real-world dichotomies such as:\n",
        " - Yes or No\n",
        " - Correct or Incorrect\n",
        " - Left or Right\n",
        " - On or Off\n",
        " \n",
        "When you compare two values, the expression is evaluated and Python returns the Boolean answer:"
      ]
    },
    {
      "cell_type": "code",
      "execution_count": null,
      "metadata": {
        "colab": {
          "base_uri": "https://localhost:8080/"
        },
        "id": "GFi3T0StWGpL",
        "outputId": "1bc075a8-5423-44f7-e46f-4a2e0cf8fdfa"
      },
      "outputs": [
        {
          "name": "stdout",
          "output_type": "stream",
          "text": [
            "True\n",
            "False\n",
            "False\n"
          ]
        }
      ],
      "source": [
        "print(20 > 10)\n",
        "print(100 == 50)\n",
        "print(10 < 5)"
      ]
    },
    {
      "cell_type": "markdown",
      "metadata": {
        "id": "Q2glYAHdWBKt"
      },
      "source": [
        "A combination of dichotomy expressions can create more complex comparisons. To combine `boolean` values we can use the \"Boolean Operators\" `and`, `or` and `not`"
      ]
    },
    {
      "cell_type": "code",
      "execution_count": null,
      "metadata": {
        "colab": {
          "base_uri": "https://localhost:8080/"
        },
        "id": "mRbTEWqjWbXR",
        "outputId": "d645bab7-0fae-4a7f-8174-cacc7c96c940"
      },
      "outputs": [
        {
          "name": "stdout",
          "output_type": "stream",
          "text": [
            "False\n"
          ]
        }
      ],
      "source": [
        "is_happy = True\n",
        "is_sad = not True\n",
        "print(is_sad)"
      ]
    },
    {
      "cell_type": "markdown",
      "metadata": {
        "id": "vz2eq-VBYNEX"
      },
      "source": [
        "## 📦 **Containers**\n",
        "\n",
        "Containers are data structures that allow you to store data types. In this lesson, we'll learn about lists, dictionaries and tuples.\n"
      ]
    },
    {
      "cell_type": "markdown",
      "metadata": {
        "id": "pIt9C6lshNIq"
      },
      "source": [
        "#### **Lists**\n",
        "A list is one of the most versatile data types available in Python. It is a data type that can contain any number of items where these items can be of any data type. To define a list we use square brackets `[]` and each item must be separated by a comma. Each item in a list can be of a different type which means that a list is not constrained to only containing a collection of one data type. "
      ]
    },
    {
      "cell_type": "code",
      "execution_count": null,
      "metadata": {
        "colab": {
          "base_uri": "https://localhost:8080/"
        },
        "id": "xjXDe3TTih68",
        "outputId": "ba7fb9c9-485b-4e40-8afd-96c0c35c2533"
      },
      "outputs": [
        {
          "name": "stdout",
          "output_type": "stream",
          "text": [
            "[]\n",
            "[]\n"
          ]
        }
      ],
      "source": [
        "empty_list = []\n",
        "print(empty_list)\n",
        "\n",
        "# Equivalent to using the list function\n",
        "empty_list = list()\n",
        "print(empty_list)"
      ]
    },
    {
      "cell_type": "markdown",
      "metadata": {
        "id": "jI7K9uIPYjz3"
      },
      "source": [
        "More examples of Lists: "
      ]
    },
    {
      "cell_type": "code",
      "execution_count": null,
      "metadata": {
        "id": "GTuFplIrY58w"
      },
      "outputs": [],
      "source": [
        "# List containing only string types\n",
        "food = ['pizza', 'sushi']\n",
        "\n",
        "# List containing only numbers\n",
        "numbers = [20,10,5]\n",
        "\n",
        "# List containing multiple types\n",
        "multitype = ['pasta', 100, 1.25]"
      ]
    },
    {
      "cell_type": "code",
      "execution_count": null,
      "metadata": {
        "colab": {
          "base_uri": "https://localhost:8080/"
        },
        "id": "kpHc6SEdih7A",
        "outputId": "5cb135fd-5cb4-4169-97bd-a89646663220"
      },
      "outputs": [
        {
          "name": "stdout",
          "output_type": "stream",
          "text": [
            "['pasta', 100, 1.25]\n"
          ]
        }
      ],
      "source": [
        "print(multitype)"
      ]
    },
    {
      "cell_type": "code",
      "execution_count": null,
      "metadata": {
        "colab": {
          "base_uri": "https://localhost:8080/"
        },
        "id": "0OfCSSJhih7C",
        "outputId": "25b4af89-ebee-44b3-ac1b-574bdd6e7c06"
      },
      "outputs": [
        {
          "data": {
            "text/plain": [
              "list"
            ]
          },
          "execution_count": 18,
          "metadata": {
            "tags": []
          },
          "output_type": "execute_result"
        }
      ],
      "source": [
        "# checking to see which type of container \"multitype\" is\n",
        "type(multitype)"
      ]
    },
    {
      "cell_type": "markdown",
      "metadata": {
        "id": "Be_lPA3BhNIy"
      },
      "source": [
        "#### **Accessing Items in a List**\n",
        "The position or location of an item in a list is known as its **index**. It is important to know that indexing a list must be an integer value and it starts at **zero**. For example, the first item lives at position zero, the second item lives at position one and so on. To access an item, we can specify its index by calling the list name and denoting the index operator `[]` with the position of the item placed inside. "
      ]
    },
    {
      "cell_type": "code",
      "execution_count": null,
      "metadata": {
        "colab": {
          "base_uri": "https://localhost:8080/"
        },
        "id": "wzw-PiU3hNIz",
        "outputId": "d37b46f2-b1ff-451d-a461-671af88a091b"
      },
      "outputs": [
        {
          "name": "stdout",
          "output_type": "stream",
          "text": [
            "blue\n",
            "pink\n"
          ]
        }
      ],
      "source": [
        "# Creating a list of colors \n",
        "colors = ['blue', 'pink']\n",
        "\n",
        "# printing item in list based on index \n",
        "print(colors[0])\n",
        "print(colors[1])"
      ]
    },
    {
      "cell_type": "code",
      "execution_count": null,
      "metadata": {
        "colab": {
          "base_uri": "https://localhost:8080/"
        },
        "id": "dqJae1xphNI1",
        "outputId": "a647db04-d2b7-4a39-8d34-e250b19dad8f"
      },
      "outputs": [
        {
          "name": "stdout",
          "output_type": "stream",
          "text": [
            "pink\n",
            "blue\n"
          ]
        }
      ],
      "source": [
        "# Reversed colors list\n",
        "r_colors = ['pink', 'blue']\n",
        "print(r_colors[0])\n",
        "print(r_colors[1])"
      ]
    },
    {
      "cell_type": "markdown",
      "metadata": {
        "id": "4SAAw_zcLHAu"
      },
      "source": [
        "#### **Slicing**\n",
        "\n",
        "Slicing a list gives us another list, instead of a single element. \n",
        "\n",
        "A slice specifies a start index and an end index, and creates and returns a new list based on the indices. The indices are separated by a colon `:`. "
      ]
    },
    {
      "cell_type": "code",
      "execution_count": null,
      "metadata": {
        "colab": {
          "base_uri": "https://localhost:8080/"
        },
        "id": "HwaXs1pEIQmJ",
        "outputId": "c3787c24-2e7f-4448-c09d-1a9a69df02d5"
      },
      "outputs": [
        {
          "name": "stdout",
          "output_type": "stream",
          "text": [
            "['a', 'b']\n",
            "['c', 'd']\n",
            "['e', 'f']\n",
            "['e', 'f']\n"
          ]
        }
      ],
      "source": [
        "# creating a list\n",
        "letters = ['a', 'b', 'c', 'd', 'e','f']\n",
        "\n",
        "# slicing out the first 2 elements (elements at index 0 and 1)\n",
        "print(letters[0:2])\n",
        "\n",
        "# slicing out the middle 2 elements \n",
        "print(letters[2:4])\n",
        "\n",
        "# taking the last 2 elements (everything past index 3 and including the item at index 3)\n",
        "print(letters[4:])\n",
        "\n",
        "# can also use the negative indices for slicing\n",
        "print(letters[-2:])\n"
      ]
    },
    {
      "cell_type": "markdown",
      "metadata": {
        "id": "NvY-7BwHhNI-"
      },
      "source": [
        "### **Slicing and Indexing on Strings**\n",
        "Indexing and slicing works identically with strings. We can pull out certain characters from a string:"
      ]
    },
    {
      "cell_type": "code",
      "execution_count": null,
      "metadata": {
        "colab": {
          "base_uri": "https://localhost:8080/"
        },
        "id": "yP3cVlQ1hNI_",
        "outputId": "129abd9d-b5f7-42cf-dd1c-d8b663592a8b"
      },
      "outputs": [
        {
          "name": "stdout",
          "output_type": "stream",
          "text": [
            "K\n",
            "s\n",
            " Klo\n",
            "Karli\n"
          ]
        }
      ],
      "source": [
        "my_string = \"Karlie Kloss\"\n",
        "\n",
        "# Pull out the first character of the string\n",
        "print(my_string[0])\n",
        "\n",
        "# Pull out the last character of the string\n",
        "print(my_string[-1])\n",
        "\n",
        "# Slicing out some characters \n",
        "print(my_string[6:10])\n",
        "\n",
        "# Slicing out some characters \n",
        "print(my_string[-12:-7])"
      ]
    },
    {
      "cell_type": "markdown",
      "metadata": {
        "id": "uySwuOGahNJE"
      },
      "source": [
        "### **List Operations**\n",
        "Lists can contain any number of items. Due to this fact, we do not want to create a new list every time we want to make a change as this could be very expensive in computation time. To make updating lists easily, Python allows lists to be mutable meaning that we can modify the original list at any given time. \n",
        "\n",
        "To update a list, we can use different list methods such as `append` or `pop`. The append method will add an item to the end of a list while pop will remove an item."
      ]
    },
    {
      "cell_type": "code",
      "execution_count": null,
      "metadata": {
        "colab": {
          "base_uri": "https://localhost:8080/"
        },
        "id": "CXVuw-tVhNJE",
        "outputId": "58186343-872f-464c-94f9-6c4b4d4ecc60"
      },
      "outputs": [
        {
          "name": "stdout",
          "output_type": "stream",
          "text": [
            "add:  ['Value']\n",
            "remove:  []\n"
          ]
        }
      ],
      "source": [
        "# Add an item \n",
        "my_list = []\n",
        "my_list.append('Value')\n",
        "print('add: ', my_list)\n",
        "\n",
        "# Remove an item\n",
        "my_list.pop(0)\n",
        "print('remove: ', my_list)"
      ]
    },
    {
      "cell_type": "markdown",
      "metadata": {
        "id": "elDjhkS6hNJG"
      },
      "source": [
        "As you can see in the example above, we used two different list methods to update our list. Let's unpack the syntax behind our example. If we translate our code into English terms it would read as followed:\n",
        "\n",
        "**Append** the string \"**Value**\" to the list stored in the variable called \"**my_list**\"\n",
        "\n",
        "To properly use a list method we must specify the following:\n",
        "- The name of the list we intend to update\n",
        "- The name of the method we want to use and join it to our list name by using a `.`\n",
        "- The appropriate parameters needed to successfully execute our method\n",
        "\n",
        "✨✨ *Check out this [link](https://www.programiz.com/python-programming/methods/list) to see all of the available list methods and their required parameters* ✨✨"
      ]
    },
    {
      "cell_type": "markdown",
      "metadata": {
        "id": "TU8IfsKuhNJH"
      },
      "source": [
        "\n",
        "\n",
        "---\n",
        "\n",
        "### ✏️ **Try It: Lists**\n",
        "1. Create a new, empty list called `scholars`\n",
        "2. Append your name to the list as a string\n",
        "3. Append the following names as strings (in order):\n",
        "    - Karlie \n",
        "    - Serena\n",
        "    - Miley \n",
        "    - Ariana\n",
        "    - Selena \n",
        "4. Sort the list, then print the list to view the newly sorted list\n",
        "5. Reverse the list, then print to view the reversed list\n",
        "6. Add an additional person to the list, then print the updated list\n",
        "\n",
        "--- "
      ]
    },
    {
      "cell_type": "markdown",
      "metadata": {
        "id": "SbM3AQwuhNJJ"
      },
      "source": [
        "### **Aliasing & Mutability** \n",
        "All data types in Python are either mutable or immutable meaning that they **can** or **cannot** be modified after it has been created. The general rule is that simple data types are immutable while more complex data types are mutable. An example of an immutable type is a `string` or a `number`. Something that can be more complex in structure is a `list`, making it a prime example for something to be mutable.\n",
        "\n",
        "✨✨ *It is important to note that mutability does not affect the variable, it only affects the value being stored in a variable.* ✨✨\n",
        "\n",
        "### **Immutable Types**\n",
        "When we store an immutable type, the value itself is stored in the variable. However, due to its immutability we cannot change that value. We can change the value of the variable by setting it to a new value.\n"
      ]
    },
    {
      "cell_type": "code",
      "execution_count": null,
      "metadata": {
        "colab": {
          "base_uri": "https://localhost:8080/",
          "height": 191
        },
        "id": "mUEIlvAXhNJK",
        "outputId": "7002a302-0f0e-4789-df55-af7186c35298"
      },
      "outputs": [
        {
          "ename": "TypeError",
          "evalue": "ignored",
          "output_type": "error",
          "traceback": [
            "\u001b[0;31m---------------------------------------------------------------------------\u001b[0m",
            "\u001b[0;31mTypeError\u001b[0m                                 Traceback (most recent call last)",
            "\u001b[0;32m<ipython-input-24-0acadc6c2ddb>\u001b[0m in \u001b[0;36m<module>\u001b[0;34m()\u001b[0m\n\u001b[1;32m      2\u001b[0m \u001b[0;34m\u001b[0m\u001b[0m\n\u001b[1;32m      3\u001b[0m \u001b[0;31m#let's say I want to change my_str to be 'adc'\u001b[0m\u001b[0;34m\u001b[0m\u001b[0;34m\u001b[0m\u001b[0;34m\u001b[0m\u001b[0m\n\u001b[0;32m----> 4\u001b[0;31m \u001b[0mmy_str\u001b[0m\u001b[0;34m[\u001b[0m\u001b[0;36m1\u001b[0m\u001b[0;34m]\u001b[0m \u001b[0;34m=\u001b[0m \u001b[0;34m'd'\u001b[0m\u001b[0;34m\u001b[0m\u001b[0;34m\u001b[0m\u001b[0m\n\u001b[0m",
            "\u001b[0;31mTypeError\u001b[0m: 'str' object does not support item assignment"
          ]
        }
      ],
      "source": [
        "my_str = 'abc'\n",
        "\n",
        "#let's say I want to change my_str to be 'adc'\n",
        "my_str[1] = 'd'"
      ]
    },
    {
      "cell_type": "markdown",
      "metadata": {
        "id": "4m1lQH3Asu85"
      },
      "source": [
        "You should get an error message when you run the code block above.\n",
        "\n",
        "\n"
      ]
    },
    {
      "cell_type": "code",
      "execution_count": null,
      "metadata": {
        "colab": {
          "base_uri": "https://localhost:8080/"
        },
        "id": "zEM1E_HghNJM",
        "outputId": "abac1ddf-d414-411e-dbd8-58baf39221d5"
      },
      "outputs": [
        {
          "name": "stdout",
          "output_type": "stream",
          "text": [
            "adc\n"
          ]
        }
      ],
      "source": [
        "# I can only do that by redefining what my_str is\n",
        "my_str = 'adc'\n",
        "print(my_str)"
      ]
    },
    {
      "cell_type": "markdown",
      "metadata": {
        "id": "vWFAVn38hNJR"
      },
      "source": [
        "### **Mutable Types**\n",
        "When we store a value in a variable, that value is given an address that references its location in Python memory. To access a mutable type, Python will use this address to locate our data where we can retrieve or update the current value. When modifying a mutable type, the change occurs directly on the value instead of creating a new value like immutable types.  "
      ]
    },
    {
      "cell_type": "code",
      "execution_count": null,
      "metadata": {
        "colab": {
          "base_uri": "https://localhost:8080/"
        },
        "id": "joQszMXYhNJT",
        "outputId": "7e7c0171-c851-4eef-d883-bdeb9ef323fd"
      },
      "outputs": [
        {
          "name": "stdout",
          "output_type": "stream",
          "text": [
            "[1, 2, 3, 4, 5]\n",
            "[1, 'new item', 3, 4, 5]\n"
          ]
        }
      ],
      "source": [
        "my_list = [1, 2, 3, 4, 5]\n",
        "print(my_list)\n",
        "\n",
        "# we can change what is stored in my_list\n",
        "my_list[1] = 'new item'\n",
        "print(my_list)"
      ]
    },
    {
      "cell_type": "code",
      "execution_count": null,
      "metadata": {
        "colab": {
          "base_uri": "https://localhost:8080/"
        },
        "id": "bS8HpWdjhNJX",
        "outputId": "a473b569-be9c-4fb7-e969-3d9cf1174e2b",
        "scrolled": true
      },
      "outputs": [
        {
          "name": "stdout",
          "output_type": "stream",
          "text": [
            "[1, 'new item', 3, 4, 5, 3.14]\n"
          ]
        }
      ],
      "source": [
        "# we can also change the list by using a method \n",
        "my_list.append(3.14)\n",
        "print(my_list)"
      ]
    },
    {
      "cell_type": "code",
      "execution_count": null,
      "metadata": {
        "colab": {
          "base_uri": "https://localhost:8080/"
        },
        "id": "-kZHvYMdhNJa",
        "outputId": "1cfa826b-393e-4d8f-c2b9-ec0e992dde6a"
      },
      "outputs": [
        {
          "name": "stdout",
          "output_type": "stream",
          "text": [
            "None\n",
            "[1, 'new item', 3, 4, 5, 3.14, 'hello']\n"
          ]
        }
      ],
      "source": [
        "my_list2 = my_list.append('hello')\n",
        "print(my_list2)\n",
        "print(my_list)"
      ]
    },
    {
      "cell_type": "markdown",
      "metadata": {
        "id": "QB18lrLchNJp"
      },
      "source": [
        "### **Tuples**\n",
        "Another container in Python is the tuple. This is an immutable version of the list. It is defined with curved brackets ``()``. This means we cannot change the tuple once it's been set. "
      ]
    },
    {
      "cell_type": "code",
      "execution_count": null,
      "metadata": {
        "colab": {
          "base_uri": "https://localhost:8080/"
        },
        "id": "w7yhJA3whNJp",
        "outputId": "584d72b7-b637-4dbd-9eca-408b2fdf571a"
      },
      "outputs": [
        {
          "data": {
            "text/plain": [
              "tuple"
            ]
          },
          "execution_count": 29,
          "metadata": {
            "tags": []
          },
          "output_type": "execute_result"
        }
      ],
      "source": [
        "my_tuple = (1,2,3,4,5,'a string',4.99)\n",
        "type(my_tuple)"
      ]
    },
    {
      "cell_type": "code",
      "execution_count": null,
      "metadata": {
        "colab": {
          "base_uri": "https://localhost:8080/",
          "height": 158
        },
        "id": "Hz90J-83hNJt",
        "outputId": "529dd1af-b105-441a-91b1-5ef3537f5ef3"
      },
      "outputs": [
        {
          "ename": "TypeError",
          "evalue": "ignored",
          "output_type": "error",
          "traceback": [
            "\u001b[0;31m---------------------------------------------------------------------------\u001b[0m",
            "\u001b[0;31mTypeError\u001b[0m                                 Traceback (most recent call last)",
            "\u001b[0;32m<ipython-input-30-b347259ed452>\u001b[0m in \u001b[0;36m<module>\u001b[0;34m()\u001b[0m\n\u001b[0;32m----> 1\u001b[0;31m \u001b[0mmy_tuple\u001b[0m\u001b[0;34m[\u001b[0m\u001b[0;36m1\u001b[0m\u001b[0;34m]\u001b[0m \u001b[0;34m=\u001b[0m \u001b[0;36m9\u001b[0m\u001b[0;34m\u001b[0m\u001b[0;34m\u001b[0m\u001b[0m\n\u001b[0m",
            "\u001b[0;31mTypeError\u001b[0m: 'tuple' object does not support item assignment"
          ]
        }
      ],
      "source": [
        "my_tuple[1] = 9"
      ]
    },
    {
      "cell_type": "code",
      "execution_count": null,
      "metadata": {
        "colab": {
          "base_uri": "https://localhost:8080/",
          "height": 158
        },
        "id": "H2f0HKFchNJv",
        "outputId": "606e4ece-fa02-4653-a6b9-b72db454f06f",
        "scrolled": true
      },
      "outputs": [
        {
          "ename": "AttributeError",
          "evalue": "ignored",
          "output_type": "error",
          "traceback": [
            "\u001b[0;31m---------------------------------------------------------------------------\u001b[0m",
            "\u001b[0;31mAttributeError\u001b[0m                            Traceback (most recent call last)",
            "\u001b[0;32m<ipython-input-31-496d003dd050>\u001b[0m in \u001b[0;36m<module>\u001b[0;34m()\u001b[0m\n\u001b[0;32m----> 1\u001b[0;31m \u001b[0mmy_tuple\u001b[0m\u001b[0;34m.\u001b[0m\u001b[0mappend\u001b[0m\u001b[0;34m(\u001b[0m\u001b[0;34m'new item'\u001b[0m\u001b[0;34m)\u001b[0m\u001b[0;34m\u001b[0m\u001b[0;34m\u001b[0m\u001b[0m\n\u001b[0m",
            "\u001b[0;31mAttributeError\u001b[0m: 'tuple' object has no attribute 'append'"
          ]
        }
      ],
      "source": [
        "my_tuple.append('new item')"
      ]
    },
    {
      "cell_type": "markdown",
      "metadata": {
        "id": "P3HjQK_Es-sS"
      },
      "source": [
        "You should get an error message when you run the code cells above. This is because tuples are immutable!\n"
      ]
    },
    {
      "cell_type": "markdown",
      "metadata": {
        "id": "9UvferDHhNJ0"
      },
      "source": [
        "### **Dictionaries**\n",
        "\n",
        "A dictionary is a data type that is similar to a list but that instead of storing data by a position, it stores data by a name. Storing data by a name establishes the ability to have an extremely fast lookup time as we do not have to iterate over the collection of data to search for the value we are looking for.  "
      ]
    },
    {
      "cell_type": "markdown",
      "metadata": {
        "id": "mEUDL-bOhNJ0"
      },
      "source": [
        "We can define an empty dictionary using curly brackets ``{}``\n",
        "\n",
        "    empty_dictionary = {}\n",
        "\n",
        "Items in dictionaries are called *keys* and *values*. To define a dictionary we need to write something like:\n",
        "\n",
        "    my_dictionary = {'key1': 1, 'key2': [1,2,3]}\n",
        "    \n",
        "The keys in a dictionary can be any immutable data type, but they must be unique and are generally primitive types such as strings or numbers. The values can be any data type including lists, as shown above. "
      ]
    },
    {
      "cell_type": "code",
      "execution_count": null,
      "metadata": {
        "colab": {
          "base_uri": "https://localhost:8080/"
        },
        "id": "E5SoeM17ih8D",
        "outputId": "454c7539-32ed-47ae-ca84-fefcf9f9ff09"
      },
      "outputs": [
        {
          "name": "stdout",
          "output_type": "stream",
          "text": [
            "{}\n"
          ]
        }
      ],
      "source": [
        "# Empty dictionary\n",
        "myempty_dictionary = {}\n",
        "\n",
        "# Equivalently\n",
        "myempty_dictionary = dict()\n",
        "print(dict())"
      ]
    },
    {
      "cell_type": "markdown",
      "metadata": {
        "id": "bXv2cQ6ghNJ1"
      },
      "source": [
        "### **Accessing Dictionary Values**\n",
        "Instead of using an index number, we use the name of the key we want to reference. By default, dictionaries do not structure their content in any particular order. "
      ]
    },
    {
      "cell_type": "code",
      "execution_count": null,
      "metadata": {
        "colab": {
          "base_uri": "https://localhost:8080/"
        },
        "id": "Nm6gUY1vhNJ1",
        "outputId": "0cb6121c-ad19-404b-ffcc-68ee93a34aac"
      },
      "outputs": [
        {
          "name": "stdout",
          "output_type": "stream",
          "text": [
            "Chicago\n"
          ]
        }
      ],
      "source": [
        "# Access Data in a Dictionary\n",
        "scholar_hometowns = {\"Karlie\": \"Chicago\", \"Serena\": \"Los Angeles\"}\n",
        "\n",
        "print(scholar_hometowns[\"Karlie\"])"
      ]
    },
    {
      "cell_type": "markdown",
      "metadata": {
        "id": "Oym7LCNXhWZX"
      },
      "source": []
    },
    {
      "cell_type": "code",
      "execution_count": null,
      "metadata": {
        "colab": {
          "base_uri": "https://localhost:8080/"
        },
        "id": "RF0Nei4MhNJ3",
        "outputId": "24ce6efa-b41b-40fd-c8ea-2bdc0768a5b8"
      },
      "outputs": [
        {
          "data": {
            "text/plain": [
              "dict"
            ]
          },
          "execution_count": 34,
          "metadata": {
            "tags": []
          },
          "output_type": "execute_result"
        }
      ],
      "source": [
        "type(scholar_hometowns)"
      ]
    },
    {
      "cell_type": "markdown",
      "metadata": {
        "id": "o0U3X3MIhNJ6"
      },
      "source": [
        "If we want to update our dictionary to store an additional value, we can use the assignment operator `=` after we have indicated the specific key we want to add or update.\n",
        "\n",
        "In our example above lets say that there was a typo with Serena's hometown and we want to update our hometown dictionary to contain the proper name for Serena."
      ]
    },
    {
      "cell_type": "code",
      "execution_count": null,
      "metadata": {
        "colab": {
          "base_uri": "https://localhost:8080/"
        },
        "id": "CFZ6MpCChNJ7",
        "outputId": "7bff739c-5081-4e37-dd10-fa5c3582353d",
        "scrolled": false
      },
      "outputs": [
        {
          "name": "stdout",
          "output_type": "stream",
          "text": [
            "{'Karlie': 'Chicago', 'Serena': 'Saginaw'}\n"
          ]
        }
      ],
      "source": [
        "scholar_hometowns[\"Serena\"] = \"Saginaw\"\n",
        "print(scholar_hometowns)"
      ]
    },
    {
      "cell_type": "markdown",
      "metadata": {
        "id": "tMs7eqSThNJ9"
      },
      "source": [
        "To update our grades dictionary to have an additional key-value pair, we can do the same as above except we index with a new key instead of using an existing key."
      ]
    },
    {
      "cell_type": "code",
      "execution_count": null,
      "metadata": {
        "id": "pjuTSVIwhLcH"
      },
      "outputs": [],
      "source": []
    },
    {
      "cell_type": "code",
      "execution_count": null,
      "metadata": {
        "colab": {
          "base_uri": "https://localhost:8080/"
        },
        "id": "STGoVokuhNJ9",
        "outputId": "21c08f2a-372e-4fb6-c75d-ab3cf87f6e66"
      },
      "outputs": [
        {
          "name": "stdout",
          "output_type": "stream",
          "text": [
            "{'Karlie': 'Chicago', 'Serena': 'Saginaw', 'Zendaya': 'Oakland California'}\n"
          ]
        }
      ],
      "source": [
        "scholar_hometowns[\"Zendaya\"] = \"Oakland California\"\n",
        "print(scholar_hometowns)"
      ]
    },
    {
      "cell_type": "markdown",
      "metadata": {
        "id": "7U9Fs30mhNKE"
      },
      "source": [
        "---\n",
        "### ✏️ **Try it: Dictionaries**\n",
        "\n",
        "You’ve now seen and used the foundations of Python. Complete the exercises below to get a little more practice.\n",
        "\n",
        "Create a new cell block below. \n",
        "\n",
        "1. Create a dictionary called **me** that contains the following key-value pairs:\n",
        "    - \"name\": where the value is your name as a `string`\n",
        "    - \"age\": where the value is your name as a `integer`\n",
        "2. Print your name from the dictionary\n",
        "3. Add a new key-value pair to your **me** dictionary where the key is the `string` \"hobbies\" and the value is an empty list\n",
        "4. Append a hobby name as a string to that list\n",
        "5. Print the **me** dictionary \n",
        "\n",
        "---"
      ]
    },
    {
      "cell_type": "markdown",
      "metadata": {
        "id": "oO1JfV5HtYVr"
      },
      "source": [
        "## **Congrats! You completed Intro to Python 🎉**"
      ]
    }
  ],
  "metadata": {
    "colab": {
      "collapsed_sections": [],
      "name": "2022 - Python#1_Instructor.ipynb",
      "provenance": []
    },
    "kernelspec": {
      "display_name": "Python 3.9.6 64-bit",
      "language": "python",
      "name": "python3"
    },
    "language_info": {
      "name": "python",
      "version": "3.9.6"
    },
    "vscode": {
      "interpreter": {
        "hash": "aee8b7b246df8f9039afb4144a1f6fd8d2ca17a180786b69acc140d282b71a49"
      }
    }
  },
  "nbformat": 4,
  "nbformat_minor": 0
}
